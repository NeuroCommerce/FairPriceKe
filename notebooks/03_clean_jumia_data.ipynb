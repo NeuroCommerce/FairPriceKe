{
 "cells": [
  {
   "cell_type": "code",
   "execution_count": 2,
   "metadata": {},
   "outputs": [],
   "source": [
    "import json\n",
    "import pandas as pd"
   ]
  },
  {
   "cell_type": "code",
   "execution_count": 3,
   "metadata": {},
   "outputs": [],
   "source": [
    "with open(r'..\\data\\Jumia\\2024-10-03_oppo_products.json', 'r', encoding='utf-8') as f:\n",
    "    jumai_json = json.load(f)\n",
    "jumai_df =  pd.DataFrame( jumai_json)\n"
   ]
  },
  {
   "cell_type": "code",
   "execution_count": 25,
   "metadata": {},
   "outputs": [
    {
     "data": {
      "text/plain": [
       "\"Oppo A58, 6.72'',50MP, 8GB+128GB, 4G, 5000mAh, (Dual Sim)- Glowing Black, (2YRs WRTY)\""
      ]
     },
     "execution_count": 25,
     "metadata": {},
     "output_type": "execute_result"
    }
   ],
   "source": [
    "jumai_json[3]['productName']"
   ]
  },
  {
   "cell_type": "code",
   "execution_count": 5,
   "metadata": {},
   "outputs": [
    {
     "data": {
      "text/plain": [
       "Index(['productName', 'price', 'oldPrice', 'discount', 'rating',\n",
       "       'verifiedRatings', 'stock', 'images', 'mainImageUrl', 'specifications',\n",
       "       'customerFeedback', 'timestamp'],\n",
       "      dtype='object')"
      ]
     },
     "execution_count": 5,
     "metadata": {},
     "output_type": "execute_result"
    }
   ],
   "source": [
    "jumai_df.columns"
   ]
  },
  {
   "cell_type": "code",
   "execution_count": 44,
   "metadata": {},
   "outputs": [],
   "source": [
    "df = jumai_df[['productName', 'price', 'oldPrice', 'discount', 'rating',\n",
    "       'verifiedRatings', 'stock', 'specifications',\n",
    "        'timestamp']]"
   ]
  },
  {
   "cell_type": "code",
   "execution_count": 45,
   "metadata": {},
   "outputs": [],
   "source": [
    "df = df.dropna(subset=['productName'])"
   ]
  },
  {
   "cell_type": "code",
   "execution_count": 46,
   "metadata": {},
   "outputs": [
    {
     "data": {
      "text/plain": [
       "\"Oppo A58, 6.72'',50MP, 8GB+128GB, 4G, 5000mAh, Dual Stereo Speakers (Dual Sim)- Dazzling Green, (2YRs WRTY)\""
      ]
     },
     "execution_count": 46,
     "metadata": {},
     "output_type": "execute_result"
    }
   ],
   "source": [
    "df['productName'][2]\n"
   ]
  },
  {
   "cell_type": "code",
   "execution_count": 47,
   "metadata": {},
   "outputs": [
    {
     "data": {
      "text/plain": [
       "\"Oppo A58, 6.72'',50MP, 8GB+128GB, 4G, 5000mAh, (Dual Sim)- Glowing Black, (2YRs WRTY)\""
      ]
     },
     "execution_count": 47,
     "metadata": {},
     "output_type": "execute_result"
    }
   ],
   "source": [
    "df['productName'][3]"
   ]
  },
  {
   "cell_type": "code",
   "execution_count": 48,
   "metadata": {},
   "outputs": [],
   "source": [
    "df['productName']  = df['productName'].str.extract(r'^(.*?)(,|$)', expand=False)[0]"
   ]
  },
  {
   "cell_type": "code",
   "execution_count": 50,
   "metadata": {},
   "outputs": [],
   "source": [
    "df['Brand'] = df['productName'].str.split(' ', n=1).str[0]"
   ]
  },
  {
   "cell_type": "code",
   "execution_count": 53,
   "metadata": {},
   "outputs": [
    {
     "data": {
      "text/plain": [
       "Index(['productName', 'price', 'oldPrice', 'discount', 'rating',\n",
       "       'verifiedRatings', 'stock', 'specifications', 'timestamp', 'Brand'],\n",
       "      dtype='object')"
      ]
     },
     "execution_count": 53,
     "metadata": {},
     "output_type": "execute_result"
    }
   ],
   "source": [
    "df.columns"
   ]
  },
  {
   "cell_type": "code",
   "execution_count": 54,
   "metadata": {},
   "outputs": [
    {
     "name": "stdout",
     "output_type": "stream",
     "text": [
      "      productName jumia_price jumia_oldPrice jumia_discount  jumia_rating  \\\n",
      "0        Oppo A38  KSh 19,794     KSh 22,999            14%  4.4 out of 5   \n",
      "2        Oppo A58  KSh 26,598     KSh 29,999            11%  4.3 out of 5   \n",
      "3        Oppo A58  KSh 26,598     KSh 29,999            11%  4.5 out of 5   \n",
      "5        Oppo A38  KSh 19,794     KSh 22,999            14%  3.8 out of 5   \n",
      "6  Oppo Reno12 5G  KSh 69,999    KSh 139,998            50%    0 out of 5   \n",
      "\n",
      "    jumia_verifiedRatings                                        jumia_stock  \\\n",
      "0   (41 verified ratings)  {'inStock': True, 'stockStatus': '4 items left...   \n",
      "2   (20 verified ratings)  {'inStock': True, 'stockStatus': '3 units left...   \n",
      "3   (21 verified ratings)  {'inStock': True, 'stockStatus': '2 units left...   \n",
      "5   (24 verified ratings)  {'inStock': True, 'stockStatus': '16 items lef...   \n",
      "6  (No ratings available)  {'inStock': True, 'stockStatus': '1 units left...   \n",
      "\n",
      "                                      specifications  \\\n",
      "0  {'Discover the details': {}, '': {}, 'Technica...   \n",
      "2  {'': {}, 'Technical Specifications': {}, 'Size...   \n",
      "3  {'': {}, 'Technical Specifications': {}, 'Size...   \n",
      "5  {'Discover the details': {}, '': {}, 'Technica...   \n",
      "6  {'': {'GSM': '850/900/1800/1900MHz', 'WCDMA': ...   \n",
      "\n",
      "                  timestamp Brand  \n",
      "0  2024-10-03T20:26:35.227Z  Oppo  \n",
      "2  2024-10-03T20:26:35.227Z  Oppo  \n",
      "3  2024-10-03T20:26:35.227Z  Oppo  \n",
      "5  2024-10-03T20:26:35.227Z  Oppo  \n",
      "6  2024-10-03T20:26:35.227Z  Oppo  \n"
     ]
    }
   ],
   "source": [
    "# List of columns to rename\n",
    "columns_to_rename = ['price', 'oldPrice', 'discount', 'rating', 'verifiedRatings', 'stock']\n",
    "\n",
    "# Rename the columns by adding the 'jumia_' prefix\n",
    "df.rename(columns={col: 'jumia_' + col for col in columns_to_rename}, inplace=True)\n",
    "\n"
   ]
  },
  {
   "cell_type": "code",
   "execution_count": 55,
   "metadata": {},
   "outputs": [
    {
     "data": {
      "text/html": [
       "<div>\n",
       "<style scoped>\n",
       "    .dataframe tbody tr th:only-of-type {\n",
       "        vertical-align: middle;\n",
       "    }\n",
       "\n",
       "    .dataframe tbody tr th {\n",
       "        vertical-align: top;\n",
       "    }\n",
       "\n",
       "    .dataframe thead th {\n",
       "        text-align: right;\n",
       "    }\n",
       "</style>\n",
       "<table border=\"1\" class=\"dataframe\">\n",
       "  <thead>\n",
       "    <tr style=\"text-align: right;\">\n",
       "      <th></th>\n",
       "      <th>productName</th>\n",
       "      <th>jumia_price</th>\n",
       "      <th>jumia_oldPrice</th>\n",
       "      <th>jumia_discount</th>\n",
       "      <th>jumia_rating</th>\n",
       "      <th>jumia_verifiedRatings</th>\n",
       "      <th>jumia_stock</th>\n",
       "      <th>specifications</th>\n",
       "      <th>timestamp</th>\n",
       "      <th>Brand</th>\n",
       "    </tr>\n",
       "  </thead>\n",
       "  <tbody>\n",
       "    <tr>\n",
       "      <th>0</th>\n",
       "      <td>Oppo A38</td>\n",
       "      <td>KSh 19,794</td>\n",
       "      <td>KSh 22,999</td>\n",
       "      <td>14%</td>\n",
       "      <td>4.4 out of 5</td>\n",
       "      <td>(41 verified ratings)</td>\n",
       "      <td>{'inStock': True, 'stockStatus': '4 items left...</td>\n",
       "      <td>{'Discover the details': {}, '': {}, 'Technica...</td>\n",
       "      <td>2024-10-03T20:26:35.227Z</td>\n",
       "      <td>Oppo</td>\n",
       "    </tr>\n",
       "    <tr>\n",
       "      <th>2</th>\n",
       "      <td>Oppo A58</td>\n",
       "      <td>KSh 26,598</td>\n",
       "      <td>KSh 29,999</td>\n",
       "      <td>11%</td>\n",
       "      <td>4.3 out of 5</td>\n",
       "      <td>(20 verified ratings)</td>\n",
       "      <td>{'inStock': True, 'stockStatus': '3 units left...</td>\n",
       "      <td>{'': {}, 'Technical Specifications': {}, 'Size...</td>\n",
       "      <td>2024-10-03T20:26:35.227Z</td>\n",
       "      <td>Oppo</td>\n",
       "    </tr>\n",
       "    <tr>\n",
       "      <th>3</th>\n",
       "      <td>Oppo A58</td>\n",
       "      <td>KSh 26,598</td>\n",
       "      <td>KSh 29,999</td>\n",
       "      <td>11%</td>\n",
       "      <td>4.5 out of 5</td>\n",
       "      <td>(21 verified ratings)</td>\n",
       "      <td>{'inStock': True, 'stockStatus': '2 units left...</td>\n",
       "      <td>{'': {}, 'Technical Specifications': {}, 'Size...</td>\n",
       "      <td>2024-10-03T20:26:35.227Z</td>\n",
       "      <td>Oppo</td>\n",
       "    </tr>\n",
       "    <tr>\n",
       "      <th>5</th>\n",
       "      <td>Oppo A38</td>\n",
       "      <td>KSh 19,794</td>\n",
       "      <td>KSh 22,999</td>\n",
       "      <td>14%</td>\n",
       "      <td>3.8 out of 5</td>\n",
       "      <td>(24 verified ratings)</td>\n",
       "      <td>{'inStock': True, 'stockStatus': '16 items lef...</td>\n",
       "      <td>{'Discover the details': {}, '': {}, 'Technica...</td>\n",
       "      <td>2024-10-03T20:26:35.227Z</td>\n",
       "      <td>Oppo</td>\n",
       "    </tr>\n",
       "    <tr>\n",
       "      <th>6</th>\n",
       "      <td>Oppo Reno12 5G</td>\n",
       "      <td>KSh 69,999</td>\n",
       "      <td>KSh 139,998</td>\n",
       "      <td>50%</td>\n",
       "      <td>0 out of 5</td>\n",
       "      <td>(No ratings available)</td>\n",
       "      <td>{'inStock': True, 'stockStatus': '1 units left...</td>\n",
       "      <td>{'': {'GSM': '850/900/1800/1900MHz', 'WCDMA': ...</td>\n",
       "      <td>2024-10-03T20:26:35.227Z</td>\n",
       "      <td>Oppo</td>\n",
       "    </tr>\n",
       "  </tbody>\n",
       "</table>\n",
       "</div>"
      ],
      "text/plain": [
       "      productName jumia_price jumia_oldPrice jumia_discount  jumia_rating  \\\n",
       "0        Oppo A38  KSh 19,794     KSh 22,999            14%  4.4 out of 5   \n",
       "2        Oppo A58  KSh 26,598     KSh 29,999            11%  4.3 out of 5   \n",
       "3        Oppo A58  KSh 26,598     KSh 29,999            11%  4.5 out of 5   \n",
       "5        Oppo A38  KSh 19,794     KSh 22,999            14%  3.8 out of 5   \n",
       "6  Oppo Reno12 5G  KSh 69,999    KSh 139,998            50%    0 out of 5   \n",
       "\n",
       "    jumia_verifiedRatings                                        jumia_stock  \\\n",
       "0   (41 verified ratings)  {'inStock': True, 'stockStatus': '4 items left...   \n",
       "2   (20 verified ratings)  {'inStock': True, 'stockStatus': '3 units left...   \n",
       "3   (21 verified ratings)  {'inStock': True, 'stockStatus': '2 units left...   \n",
       "5   (24 verified ratings)  {'inStock': True, 'stockStatus': '16 items lef...   \n",
       "6  (No ratings available)  {'inStock': True, 'stockStatus': '1 units left...   \n",
       "\n",
       "                                      specifications  \\\n",
       "0  {'Discover the details': {}, '': {}, 'Technica...   \n",
       "2  {'': {}, 'Technical Specifications': {}, 'Size...   \n",
       "3  {'': {}, 'Technical Specifications': {}, 'Size...   \n",
       "5  {'Discover the details': {}, '': {}, 'Technica...   \n",
       "6  {'': {'GSM': '850/900/1800/1900MHz', 'WCDMA': ...   \n",
       "\n",
       "                  timestamp Brand  \n",
       "0  2024-10-03T20:26:35.227Z  Oppo  \n",
       "2  2024-10-03T20:26:35.227Z  Oppo  \n",
       "3  2024-10-03T20:26:35.227Z  Oppo  \n",
       "5  2024-10-03T20:26:35.227Z  Oppo  \n",
       "6  2024-10-03T20:26:35.227Z  Oppo  "
      ]
     },
     "execution_count": 55,
     "metadata": {},
     "output_type": "execute_result"
    }
   ],
   "source": [
    "# Display the updated DataFrame with new column names\n",
    "df.head()"
   ]
  },
  {
   "cell_type": "code",
   "execution_count": 56,
   "metadata": {},
   "outputs": [
    {
     "data": {
      "text/plain": [
       "Index(['productName', 'jumia_price', 'jumia_oldPrice', 'jumia_discount',\n",
       "       'jumia_rating', 'jumia_verifiedRatings', 'jumia_stock',\n",
       "       'specifications', 'timestamp', 'Brand'],\n",
       "      dtype='object')"
      ]
     },
     "execution_count": 56,
     "metadata": {},
     "output_type": "execute_result"
    }
   ],
   "source": [
    "df.columns"
   ]
  },
  {
   "cell_type": "code",
   "execution_count": 57,
   "metadata": {},
   "outputs": [
    {
     "name": "stdout",
     "output_type": "stream",
     "text": [
      "                  timestamp     productName Brand jumia_price jumia_oldPrice  \\\n",
      "0  2024-10-03T20:26:35.227Z        Oppo A38  Oppo  KSh 19,794     KSh 22,999   \n",
      "2  2024-10-03T20:26:35.227Z        Oppo A58  Oppo  KSh 26,598     KSh 29,999   \n",
      "3  2024-10-03T20:26:35.227Z        Oppo A58  Oppo  KSh 26,598     KSh 29,999   \n",
      "5  2024-10-03T20:26:35.227Z        Oppo A38  Oppo  KSh 19,794     KSh 22,999   \n",
      "6  2024-10-03T20:26:35.227Z  Oppo Reno12 5G  Oppo  KSh 69,999    KSh 139,998   \n",
      "\n",
      "  jumia_discount  jumia_rating   jumia_verifiedRatings  \\\n",
      "0            14%  4.4 out of 5   (41 verified ratings)   \n",
      "2            11%  4.3 out of 5   (20 verified ratings)   \n",
      "3            11%  4.5 out of 5   (21 verified ratings)   \n",
      "5            14%  3.8 out of 5   (24 verified ratings)   \n",
      "6            50%    0 out of 5  (No ratings available)   \n",
      "\n",
      "                                         jumia_stock  \\\n",
      "0  {'inStock': True, 'stockStatus': '4 items left...   \n",
      "2  {'inStock': True, 'stockStatus': '3 units left...   \n",
      "3  {'inStock': True, 'stockStatus': '2 units left...   \n",
      "5  {'inStock': True, 'stockStatus': '16 items lef...   \n",
      "6  {'inStock': True, 'stockStatus': '1 units left...   \n",
      "\n",
      "                                      specifications  \n",
      "0  {'Discover the details': {}, '': {}, 'Technica...  \n",
      "2  {'': {}, 'Technical Specifications': {}, 'Size...  \n",
      "3  {'': {}, 'Technical Specifications': {}, 'Size...  \n",
      "5  {'Discover the details': {}, '': {}, 'Technica...  \n",
      "6  {'': {'GSM': '850/900/1800/1900MHz', 'WCDMA': ...  \n"
     ]
    }
   ],
   "source": [
    "# Specify the desired column order\n",
    "new_column_order = [\n",
    "    'timestamp', 'productName', 'Brand', 'jumia_price', 'jumia_oldPrice', \n",
    "    'jumia_discount', 'jumia_rating', 'jumia_verifiedRatings', \n",
    "    'jumia_stock', 'specifications'\n",
    "]\n",
    "\n",
    "# Reorder the columns\n",
    "df = df[new_column_order]\n",
    "\n"
   ]
  },
  {
   "cell_type": "code",
   "execution_count": 58,
   "metadata": {},
   "outputs": [
    {
     "data": {
      "text/html": [
       "<div>\n",
       "<style scoped>\n",
       "    .dataframe tbody tr th:only-of-type {\n",
       "        vertical-align: middle;\n",
       "    }\n",
       "\n",
       "    .dataframe tbody tr th {\n",
       "        vertical-align: top;\n",
       "    }\n",
       "\n",
       "    .dataframe thead th {\n",
       "        text-align: right;\n",
       "    }\n",
       "</style>\n",
       "<table border=\"1\" class=\"dataframe\">\n",
       "  <thead>\n",
       "    <tr style=\"text-align: right;\">\n",
       "      <th></th>\n",
       "      <th>timestamp</th>\n",
       "      <th>productName</th>\n",
       "      <th>Brand</th>\n",
       "      <th>jumia_price</th>\n",
       "      <th>jumia_oldPrice</th>\n",
       "      <th>jumia_discount</th>\n",
       "      <th>jumia_rating</th>\n",
       "      <th>jumia_verifiedRatings</th>\n",
       "      <th>jumia_stock</th>\n",
       "      <th>specifications</th>\n",
       "    </tr>\n",
       "  </thead>\n",
       "  <tbody>\n",
       "    <tr>\n",
       "      <th>0</th>\n",
       "      <td>2024-10-03T20:26:35.227Z</td>\n",
       "      <td>Oppo A38</td>\n",
       "      <td>Oppo</td>\n",
       "      <td>KSh 19,794</td>\n",
       "      <td>KSh 22,999</td>\n",
       "      <td>14%</td>\n",
       "      <td>4.4 out of 5</td>\n",
       "      <td>(41 verified ratings)</td>\n",
       "      <td>{'inStock': True, 'stockStatus': '4 items left...</td>\n",
       "      <td>{'Discover the details': {}, '': {}, 'Technica...</td>\n",
       "    </tr>\n",
       "    <tr>\n",
       "      <th>2</th>\n",
       "      <td>2024-10-03T20:26:35.227Z</td>\n",
       "      <td>Oppo A58</td>\n",
       "      <td>Oppo</td>\n",
       "      <td>KSh 26,598</td>\n",
       "      <td>KSh 29,999</td>\n",
       "      <td>11%</td>\n",
       "      <td>4.3 out of 5</td>\n",
       "      <td>(20 verified ratings)</td>\n",
       "      <td>{'inStock': True, 'stockStatus': '3 units left...</td>\n",
       "      <td>{'': {}, 'Technical Specifications': {}, 'Size...</td>\n",
       "    </tr>\n",
       "    <tr>\n",
       "      <th>3</th>\n",
       "      <td>2024-10-03T20:26:35.227Z</td>\n",
       "      <td>Oppo A58</td>\n",
       "      <td>Oppo</td>\n",
       "      <td>KSh 26,598</td>\n",
       "      <td>KSh 29,999</td>\n",
       "      <td>11%</td>\n",
       "      <td>4.5 out of 5</td>\n",
       "      <td>(21 verified ratings)</td>\n",
       "      <td>{'inStock': True, 'stockStatus': '2 units left...</td>\n",
       "      <td>{'': {}, 'Technical Specifications': {}, 'Size...</td>\n",
       "    </tr>\n",
       "    <tr>\n",
       "      <th>5</th>\n",
       "      <td>2024-10-03T20:26:35.227Z</td>\n",
       "      <td>Oppo A38</td>\n",
       "      <td>Oppo</td>\n",
       "      <td>KSh 19,794</td>\n",
       "      <td>KSh 22,999</td>\n",
       "      <td>14%</td>\n",
       "      <td>3.8 out of 5</td>\n",
       "      <td>(24 verified ratings)</td>\n",
       "      <td>{'inStock': True, 'stockStatus': '16 items lef...</td>\n",
       "      <td>{'Discover the details': {}, '': {}, 'Technica...</td>\n",
       "    </tr>\n",
       "    <tr>\n",
       "      <th>6</th>\n",
       "      <td>2024-10-03T20:26:35.227Z</td>\n",
       "      <td>Oppo Reno12 5G</td>\n",
       "      <td>Oppo</td>\n",
       "      <td>KSh 69,999</td>\n",
       "      <td>KSh 139,998</td>\n",
       "      <td>50%</td>\n",
       "      <td>0 out of 5</td>\n",
       "      <td>(No ratings available)</td>\n",
       "      <td>{'inStock': True, 'stockStatus': '1 units left...</td>\n",
       "      <td>{'': {'GSM': '850/900/1800/1900MHz', 'WCDMA': ...</td>\n",
       "    </tr>\n",
       "  </tbody>\n",
       "</table>\n",
       "</div>"
      ],
      "text/plain": [
       "                  timestamp     productName Brand jumia_price jumia_oldPrice  \\\n",
       "0  2024-10-03T20:26:35.227Z        Oppo A38  Oppo  KSh 19,794     KSh 22,999   \n",
       "2  2024-10-03T20:26:35.227Z        Oppo A58  Oppo  KSh 26,598     KSh 29,999   \n",
       "3  2024-10-03T20:26:35.227Z        Oppo A58  Oppo  KSh 26,598     KSh 29,999   \n",
       "5  2024-10-03T20:26:35.227Z        Oppo A38  Oppo  KSh 19,794     KSh 22,999   \n",
       "6  2024-10-03T20:26:35.227Z  Oppo Reno12 5G  Oppo  KSh 69,999    KSh 139,998   \n",
       "\n",
       "  jumia_discount  jumia_rating   jumia_verifiedRatings  \\\n",
       "0            14%  4.4 out of 5   (41 verified ratings)   \n",
       "2            11%  4.3 out of 5   (20 verified ratings)   \n",
       "3            11%  4.5 out of 5   (21 verified ratings)   \n",
       "5            14%  3.8 out of 5   (24 verified ratings)   \n",
       "6            50%    0 out of 5  (No ratings available)   \n",
       "\n",
       "                                         jumia_stock  \\\n",
       "0  {'inStock': True, 'stockStatus': '4 items left...   \n",
       "2  {'inStock': True, 'stockStatus': '3 units left...   \n",
       "3  {'inStock': True, 'stockStatus': '2 units left...   \n",
       "5  {'inStock': True, 'stockStatus': '16 items lef...   \n",
       "6  {'inStock': True, 'stockStatus': '1 units left...   \n",
       "\n",
       "                                      specifications  \n",
       "0  {'Discover the details': {}, '': {}, 'Technica...  \n",
       "2  {'': {}, 'Technical Specifications': {}, 'Size...  \n",
       "3  {'': {}, 'Technical Specifications': {}, 'Size...  \n",
       "5  {'Discover the details': {}, '': {}, 'Technica...  \n",
       "6  {'': {'GSM': '850/900/1800/1900MHz', 'WCDMA': ...  "
      ]
     },
     "execution_count": 58,
     "metadata": {},
     "output_type": "execute_result"
    }
   ],
   "source": [
    "# Display the reordered DataFrame\n",
    "df.head()"
   ]
  },
  {
   "cell_type": "markdown",
   "metadata": {},
   "source": [
    "# create clean_jumia_data"
   ]
  },
  {
   "cell_type": "code",
   "execution_count": 59,
   "metadata": {},
   "outputs": [],
   "source": [
    "def clean_jumia_data(json_file_path):\n",
    "    # Load the JSON file\n",
    "    with open(json_file_path, 'r', encoding='utf-8') as f:\n",
    "        jumia_json = json.load(f)\n",
    "    \n",
    "    # Convert JSON to DataFrame\n",
    "    df = pd.DataFrame(jumia_json)\n",
    "\n",
    "    # Select relevant columns\n",
    "    df = df[['productName', 'price', 'oldPrice', 'discount', 'rating',\n",
    "             'verifiedRatings', 'stock', 'specifications', 'timestamp']]\n",
    "\n",
    "    # Drop rows where 'productName' is NaN\n",
    "    df = df.dropna(subset=['productName'])\n",
    "\n",
    "    # Extract the product name and assign brand\n",
    "    df['productName'] = df['productName'].str.extract(r'^(.*?)(,|$)', expand=False)[0]\n",
    "    df['Brand'] = df['productName'].str.split(' ', n=1).str[0]\n",
    "\n",
    "    # Rename the specified columns by adding 'jumia_' prefix\n",
    "    columns_to_rename = ['price', 'oldPrice', 'discount', 'rating', 'verifiedRatings', 'stock']\n",
    "    df.rename(columns={col: 'jumia_' + col for col in columns_to_rename}, inplace=True)\n",
    "\n",
    "    # Reorder the columns\n",
    "    new_column_order = [\n",
    "        'timestamp', 'productName', 'Brand', 'jumia_price', 'jumia_oldPrice', \n",
    "        'jumia_discount', 'jumia_rating', 'jumia_verifiedRatings', \n",
    "        'jumia_stock', 'specifications'\n",
    "    ]\n",
    "    df = df[new_column_order]\n",
    "    \n",
    "    df['Key_Features']   = df['specifications'].apply(lambda x: x['Key Features'])\n",
    "    df.drop( 'specifications', axis=1)\n",
    "\n",
    "    # Return the cleaned DataFrame\n",
    "    return df\n",
    "\n"
   ]
  },
  {
   "cell_type": "code",
   "execution_count": 62,
   "metadata": {},
   "outputs": [
    {
     "data": {
      "text/html": [
       "<div>\n",
       "<style scoped>\n",
       "    .dataframe tbody tr th:only-of-type {\n",
       "        vertical-align: middle;\n",
       "    }\n",
       "\n",
       "    .dataframe tbody tr th {\n",
       "        vertical-align: top;\n",
       "    }\n",
       "\n",
       "    .dataframe thead th {\n",
       "        text-align: right;\n",
       "    }\n",
       "</style>\n",
       "<table border=\"1\" class=\"dataframe\">\n",
       "  <thead>\n",
       "    <tr style=\"text-align: right;\">\n",
       "      <th></th>\n",
       "      <th>timestamp</th>\n",
       "      <th>productName</th>\n",
       "      <th>Brand</th>\n",
       "      <th>jumia_price</th>\n",
       "      <th>jumia_oldPrice</th>\n",
       "      <th>jumia_discount</th>\n",
       "      <th>jumia_rating</th>\n",
       "      <th>jumia_verifiedRatings</th>\n",
       "      <th>jumia_stock</th>\n",
       "      <th>specifications</th>\n",
       "    </tr>\n",
       "  </thead>\n",
       "  <tbody>\n",
       "    <tr>\n",
       "      <th>0</th>\n",
       "      <td>2024-10-03T20:35:38.695Z</td>\n",
       "      <td>Samsung Galaxy A05</td>\n",
       "      <td>Samsung</td>\n",
       "      <td>KSh 11,560</td>\n",
       "      <td>KSh 12,500</td>\n",
       "      <td>8%</td>\n",
       "      <td>4.3 out of 5</td>\n",
       "      <td>(51 verified ratings)</td>\n",
       "      <td>{'inStock': True, 'stockStatus': '87 items lef...</td>\n",
       "      <td>{'Samsung Galaxy A05 mobile comes with a 6.70-...</td>\n",
       "    </tr>\n",
       "    <tr>\n",
       "      <th>1</th>\n",
       "      <td>2024-10-03T20:35:38.695Z</td>\n",
       "      <td>Samsung Galaxy A05</td>\n",
       "      <td>Samsung</td>\n",
       "      <td>KSh 12,930</td>\n",
       "      <td>KSh 14,000</td>\n",
       "      <td>8%</td>\n",
       "      <td>4.7 out of 5</td>\n",
       "      <td>(7 verified ratings)</td>\n",
       "      <td>{'inStock': True, 'stockStatus': 'In stock', '...</td>\n",
       "      <td>{'Design': {}, 'Galaxy A05 comes in a sturdy f...</td>\n",
       "    </tr>\n",
       "    <tr>\n",
       "      <th>2</th>\n",
       "      <td>2024-10-03T20:35:38.695Z</td>\n",
       "      <td>Samsung Fit 3 Smart Watch - Black(1 YR WRTY)</td>\n",
       "      <td>Samsung</td>\n",
       "      <td>KSh 10,600</td>\n",
       "      <td>KSh 21,200</td>\n",
       "      <td>50%</td>\n",
       "      <td>5 out of 5</td>\n",
       "      <td>(1 verified rating)</td>\n",
       "      <td>{'inStock': True, 'stockStatus': '9 units left...</td>\n",
       "      <td>{'': {}, 'Lasts up to 13 days on a single char...</td>\n",
       "    </tr>\n",
       "    <tr>\n",
       "      <th>3</th>\n",
       "      <td>2024-10-03T20:35:38.695Z</td>\n",
       "      <td>Samsung Galaxy A04e 32GB ROM 3GB RAM 6.5'' 500...</td>\n",
       "      <td>Samsung</td>\n",
       "      <td>KSh 8,900</td>\n",
       "      <td>KSh 11,000</td>\n",
       "      <td>19%</td>\n",
       "      <td>4.5 out of 5</td>\n",
       "      <td>(13 verified ratings)</td>\n",
       "      <td>{'inStock': True, 'stockStatus': 'In stock', '...</td>\n",
       "      <td>{'Samsung Galaxy A04e is a budget-friendly sma...</td>\n",
       "    </tr>\n",
       "    <tr>\n",
       "      <th>4</th>\n",
       "      <td>2024-10-03T20:35:38.695Z</td>\n",
       "      <td>Samsung Buds 2 Pro True Wireless Bluetooth Ear...</td>\n",
       "      <td>Samsung</td>\n",
       "      <td>KSh 17,999</td>\n",
       "      <td>KSh 35,998</td>\n",
       "      <td>50%</td>\n",
       "      <td>0 out of 5</td>\n",
       "      <td>(No ratings available)</td>\n",
       "      <td>{'inStock': True, 'stockStatus': '8 units left...</td>\n",
       "      <td>{'': {}, 'Specifications': {'SKU': 'SA948EA3PC...</td>\n",
       "    </tr>\n",
       "  </tbody>\n",
       "</table>\n",
       "</div>"
      ],
      "text/plain": [
       "                  timestamp  \\\n",
       "0  2024-10-03T20:35:38.695Z   \n",
       "1  2024-10-03T20:35:38.695Z   \n",
       "2  2024-10-03T20:35:38.695Z   \n",
       "3  2024-10-03T20:35:38.695Z   \n",
       "4  2024-10-03T20:35:38.695Z   \n",
       "\n",
       "                                         productName    Brand jumia_price  \\\n",
       "0                                 Samsung Galaxy A05  Samsung  KSh 11,560   \n",
       "1                                 Samsung Galaxy A05  Samsung  KSh 12,930   \n",
       "2       Samsung Fit 3 Smart Watch - Black(1 YR WRTY)  Samsung  KSh 10,600   \n",
       "3  Samsung Galaxy A04e 32GB ROM 3GB RAM 6.5'' 500...  Samsung   KSh 8,900   \n",
       "4  Samsung Buds 2 Pro True Wireless Bluetooth Ear...  Samsung  KSh 17,999   \n",
       "\n",
       "  jumia_oldPrice jumia_discount  jumia_rating   jumia_verifiedRatings  \\\n",
       "0     KSh 12,500             8%  4.3 out of 5   (51 verified ratings)   \n",
       "1     KSh 14,000             8%  4.7 out of 5    (7 verified ratings)   \n",
       "2     KSh 21,200            50%    5 out of 5     (1 verified rating)   \n",
       "3     KSh 11,000            19%  4.5 out of 5   (13 verified ratings)   \n",
       "4     KSh 35,998            50%    0 out of 5  (No ratings available)   \n",
       "\n",
       "                                         jumia_stock  \\\n",
       "0  {'inStock': True, 'stockStatus': '87 items lef...   \n",
       "1  {'inStock': True, 'stockStatus': 'In stock', '...   \n",
       "2  {'inStock': True, 'stockStatus': '9 units left...   \n",
       "3  {'inStock': True, 'stockStatus': 'In stock', '...   \n",
       "4  {'inStock': True, 'stockStatus': '8 units left...   \n",
       "\n",
       "                                      specifications  \n",
       "0  {'Samsung Galaxy A05 mobile comes with a 6.70-...  \n",
       "1  {'Design': {}, 'Galaxy A05 comes in a sturdy f...  \n",
       "2  {'': {}, 'Lasts up to 13 days on a single char...  \n",
       "3  {'Samsung Galaxy A04e is a budget-friendly sma...  \n",
       "4  {'': {}, 'Specifications': {'SKU': 'SA948EA3PC...  "
      ]
     },
     "execution_count": 62,
     "metadata": {},
     "output_type": "execute_result"
    }
   ],
   "source": [
    "# Example usage\n",
    "json_file_path = r'..\\data\\Jumia\\2024-10-03_all_brands_products.json'\n",
    "cleaned_df = clean_jumia_data(json_file_path)\n",
    "cleaned_df.head()"
   ]
  },
  {
   "cell_type": "code",
   "execution_count": 64,
   "metadata": {},
   "outputs": [
    {
     "data": {
      "text/plain": [
       "Brand\n",
       "Tecno      37\n",
       "Itel       33\n",
       "Samsung    28\n",
       "XIAOMI     26\n",
       "Vivo       22\n",
       "Infinix    14\n",
       "Oppo        6\n",
       "Name: count, dtype: int64"
      ]
     },
     "execution_count": 64,
     "metadata": {},
     "output_type": "execute_result"
    }
   ],
   "source": [
    "cleaned_df['Brand'].value_counts()"
   ]
  },
  {
   "cell_type": "code",
   "execution_count": 79,
   "metadata": {},
   "outputs": [],
   "source": [
    "spe_dict =  cleaned_df['specifications'][3]"
   ]
  },
  {
   "cell_type": "code",
   "execution_count": 80,
   "metadata": {},
   "outputs": [
    {
     "data": {
      "text/plain": [
       "dict_keys([\"Samsung Galaxy A04e is a budget-friendly smartphone that features a 6.5-inch HD+ display, 13MP + 2MP dual rear cameras, and a 5MP selfie camera.\\xa0It runs on a MediaTek Helio P35 chipset with\\xa03GB of RAM, Android 12 OS, and OneUI Core 4.1 interface. There's also 4G LTE connectivity, dual-band Wi-Fi, and\\xa032GB\\xa0of expandable storage.\\xa0A large\\xa05,000mAh\\xa0battery powers the device with support for 10W charging rate via micro-USB port.\\xa0Order for this Samsung Galaxy A04e online from Jumia Kenya and have it delivered to your doorstep.\", '', 'Display', 'Camera', 'Platform', 'Memory', 'Other Features', 'Battery', 'Key Features', 'What’s in the box', 'Specifications'])"
      ]
     },
     "execution_count": 80,
     "metadata": {},
     "output_type": "execute_result"
    }
   ],
   "source": [
    "spe_dict.keys()"
   ]
  },
  {
   "cell_type": "code",
   "execution_count": 81,
   "metadata": {},
   "outputs": [
    {
     "data": {
      "text/plain": [
       "{\"6.5'' display\": True,\n",
       " 'Android 12': True,\n",
       " 'Octa-core processor': True,\n",
       " '13MP Rear camera and 2MP front camera': True,\n",
       " '32GB ROM 3GB RAM': True,\n",
       " '5000mAh Battery': True}"
      ]
     },
     "execution_count": 81,
     "metadata": {},
     "output_type": "execute_result"
    }
   ],
   "source": [
    "spe_dict['Key Features']"
   ]
  },
  {
   "cell_type": "code",
   "execution_count": 83,
   "metadata": {},
   "outputs": [],
   "source": [
    "cleaned_df['Key_Features']   = cleaned_df['specifications'].apply(lambda x: x['Key Features'])"
   ]
  },
  {
   "cell_type": "code",
   "execution_count": 86,
   "metadata": {},
   "outputs": [
    {
     "data": {
      "text/html": [
       "<div>\n",
       "<style scoped>\n",
       "    .dataframe tbody tr th:only-of-type {\n",
       "        vertical-align: middle;\n",
       "    }\n",
       "\n",
       "    .dataframe tbody tr th {\n",
       "        vertical-align: top;\n",
       "    }\n",
       "\n",
       "    .dataframe thead th {\n",
       "        text-align: right;\n",
       "    }\n",
       "</style>\n",
       "<table border=\"1\" class=\"dataframe\">\n",
       "  <thead>\n",
       "    <tr style=\"text-align: right;\">\n",
       "      <th></th>\n",
       "      <th>timestamp</th>\n",
       "      <th>productName</th>\n",
       "      <th>Brand</th>\n",
       "      <th>jumia_price</th>\n",
       "      <th>jumia_oldPrice</th>\n",
       "      <th>jumia_discount</th>\n",
       "      <th>jumia_rating</th>\n",
       "      <th>jumia_verifiedRatings</th>\n",
       "      <th>jumia_stock</th>\n",
       "      <th>Key_Features</th>\n",
       "    </tr>\n",
       "  </thead>\n",
       "  <tbody>\n",
       "    <tr>\n",
       "      <th>0</th>\n",
       "      <td>2024-10-03T20:35:38.695Z</td>\n",
       "      <td>Samsung Galaxy A05</td>\n",
       "      <td>Samsung</td>\n",
       "      <td>KSh 11,560</td>\n",
       "      <td>KSh 12,500</td>\n",
       "      <td>8%</td>\n",
       "      <td>4.3 out of 5</td>\n",
       "      <td>(51 verified ratings)</td>\n",
       "      <td>{'inStock': True, 'stockStatus': '87 items lef...</td>\n",
       "      <td>{'Display: 6.7\" PLS LCD': True, 'Resolution: 7...</td>\n",
       "    </tr>\n",
       "    <tr>\n",
       "      <th>1</th>\n",
       "      <td>2024-10-03T20:35:38.695Z</td>\n",
       "      <td>Samsung Galaxy A05</td>\n",
       "      <td>Samsung</td>\n",
       "      <td>KSh 12,930</td>\n",
       "      <td>KSh 14,000</td>\n",
       "      <td>8%</td>\n",
       "      <td>4.7 out of 5</td>\n",
       "      <td>(7 verified ratings)</td>\n",
       "      <td>{'inStock': True, 'stockStatus': 'In stock', '...</td>\n",
       "      <td>{'6.7 inches IPS LCD display': True, 'Qualcomm...</td>\n",
       "    </tr>\n",
       "    <tr>\n",
       "      <th>2</th>\n",
       "      <td>2024-10-03T20:35:38.695Z</td>\n",
       "      <td>Samsung Fit 3 Smart Watch - Black(1 YR WRTY)</td>\n",
       "      <td>Samsung</td>\n",
       "      <td>KSh 10,600</td>\n",
       "      <td>KSh 21,200</td>\n",
       "      <td>50%</td>\n",
       "      <td>5 out of 5</td>\n",
       "      <td>(1 verified rating)</td>\n",
       "      <td>{'inStock': True, 'stockStatus': '9 units left...</td>\n",
       "      <td>{'Display: 1.6\" AMOLED Display. 256x402 Resolu...</td>\n",
       "    </tr>\n",
       "    <tr>\n",
       "      <th>3</th>\n",
       "      <td>2024-10-03T20:35:38.695Z</td>\n",
       "      <td>Samsung Galaxy A04e 32GB ROM 3GB RAM 6.5'' 500...</td>\n",
       "      <td>Samsung</td>\n",
       "      <td>KSh 8,900</td>\n",
       "      <td>KSh 11,000</td>\n",
       "      <td>19%</td>\n",
       "      <td>4.5 out of 5</td>\n",
       "      <td>(13 verified ratings)</td>\n",
       "      <td>{'inStock': True, 'stockStatus': 'In stock', '...</td>\n",
       "      <td>{'6.5'' display': True, 'Android 12': True, 'O...</td>\n",
       "    </tr>\n",
       "    <tr>\n",
       "      <th>4</th>\n",
       "      <td>2024-10-03T20:35:38.695Z</td>\n",
       "      <td>Samsung Buds 2 Pro True Wireless Bluetooth Ear...</td>\n",
       "      <td>Samsung</td>\n",
       "      <td>KSh 17,999</td>\n",
       "      <td>KSh 35,998</td>\n",
       "      <td>50%</td>\n",
       "      <td>0 out of 5</td>\n",
       "      <td>(No ratings available)</td>\n",
       "      <td>{'inStock': True, 'stockStatus': '8 units left...</td>\n",
       "      <td>{'THEY SAY “HOLA,” YOU HEAR “HELLO”: Now you c...</td>\n",
       "    </tr>\n",
       "    <tr>\n",
       "      <th>...</th>\n",
       "      <td>...</td>\n",
       "      <td>...</td>\n",
       "      <td>...</td>\n",
       "      <td>...</td>\n",
       "      <td>...</td>\n",
       "      <td>...</td>\n",
       "      <td>...</td>\n",
       "      <td>...</td>\n",
       "      <td>...</td>\n",
       "      <td>...</td>\n",
       "    </tr>\n",
       "    <tr>\n",
       "      <th>172</th>\n",
       "      <td>2024-10-03T20:35:38.695Z</td>\n",
       "      <td>Itel RS4 6.56\" 8GB RAM +256 GB</td>\n",
       "      <td>Itel</td>\n",
       "      <td>KSh 21,060</td>\n",
       "      <td>KSh 22,000</td>\n",
       "      <td>4%</td>\n",
       "      <td>1 out of 5</td>\n",
       "      <td>(1 verified rating)</td>\n",
       "      <td>{'inStock': True, 'stockStatus': '9 units left...</td>\n",
       "      <td>{'Display Size    6.56 inches, 103.4 cm2': Tru...</td>\n",
       "    </tr>\n",
       "    <tr>\n",
       "      <th>173</th>\n",
       "      <td>2024-10-03T20:35:38.695Z</td>\n",
       "      <td>Itel 5609 - 1.77\" (Dual SIM) - Wireless FM</td>\n",
       "      <td>Itel</td>\n",
       "      <td>KSh 1,790</td>\n",
       "      <td>KSh 2,000</td>\n",
       "      <td>11%</td>\n",
       "      <td>0 out of 5</td>\n",
       "      <td>(No ratings available)</td>\n",
       "      <td>{'inStock': False, 'stockStatus': 'Status unkn...</td>\n",
       "      <td>{'Display: 1.77\" TN': True, 'Resolution: 128 *...</td>\n",
       "    </tr>\n",
       "    <tr>\n",
       "      <th>174</th>\n",
       "      <td>2024-10-03T20:35:38.695Z</td>\n",
       "      <td>Itel 27000mah Large Capacity  Powerbank IPP-85L</td>\n",
       "      <td>Itel</td>\n",
       "      <td>KSh 2,796</td>\n",
       "      <td>KSh 5,000</td>\n",
       "      <td>44%</td>\n",
       "      <td>0 out of 5</td>\n",
       "      <td>(No ratings available)</td>\n",
       "      <td>{'inStock': False, 'stockStatus': 'Status unkn...</td>\n",
       "      <td>{'27,000mAh Large Capacity': True, 'Three Inpu...</td>\n",
       "    </tr>\n",
       "    <tr>\n",
       "      <th>175</th>\n",
       "      <td>2024-10-03T20:35:38.695Z</td>\n",
       "      <td>Itel 20000mah Battery Portable And Fast Charge...</td>\n",
       "      <td>Itel</td>\n",
       "      <td>KSh 1,911</td>\n",
       "      <td>KSh 2,800</td>\n",
       "      <td>32%</td>\n",
       "      <td>0 out of 5</td>\n",
       "      <td>(No ratings available)</td>\n",
       "      <td>{'inStock': False, 'stockStatus': 'Status unkn...</td>\n",
       "      <td>{'20000MAH 12W': True, 'Input USB-C: 5V/2.0A':...</td>\n",
       "    </tr>\n",
       "    <tr>\n",
       "      <th>176</th>\n",
       "      <td>2024-10-03T20:35:38.695Z</td>\n",
       "      <td>Itel Flip 1 Folding Phone - 2.4\" - 1200mAh (Du...</td>\n",
       "      <td>Itel</td>\n",
       "      <td>KSh 2,960</td>\n",
       "      <td>KSh 4,000</td>\n",
       "      <td>26%</td>\n",
       "      <td>2.8 out of 5</td>\n",
       "      <td>(5 verified ratings)</td>\n",
       "      <td>{'inStock': False, 'stockStatus': 'Status unkn...</td>\n",
       "      <td>{'Wireless FM radio': True, 'Foldable Phone': ...</td>\n",
       "    </tr>\n",
       "  </tbody>\n",
       "</table>\n",
       "<p>166 rows × 10 columns</p>\n",
       "</div>"
      ],
      "text/plain": [
       "                    timestamp  \\\n",
       "0    2024-10-03T20:35:38.695Z   \n",
       "1    2024-10-03T20:35:38.695Z   \n",
       "2    2024-10-03T20:35:38.695Z   \n",
       "3    2024-10-03T20:35:38.695Z   \n",
       "4    2024-10-03T20:35:38.695Z   \n",
       "..                        ...   \n",
       "172  2024-10-03T20:35:38.695Z   \n",
       "173  2024-10-03T20:35:38.695Z   \n",
       "174  2024-10-03T20:35:38.695Z   \n",
       "175  2024-10-03T20:35:38.695Z   \n",
       "176  2024-10-03T20:35:38.695Z   \n",
       "\n",
       "                                           productName    Brand jumia_price  \\\n",
       "0                                   Samsung Galaxy A05  Samsung  KSh 11,560   \n",
       "1                                   Samsung Galaxy A05  Samsung  KSh 12,930   \n",
       "2         Samsung Fit 3 Smart Watch - Black(1 YR WRTY)  Samsung  KSh 10,600   \n",
       "3    Samsung Galaxy A04e 32GB ROM 3GB RAM 6.5'' 500...  Samsung   KSh 8,900   \n",
       "4    Samsung Buds 2 Pro True Wireless Bluetooth Ear...  Samsung  KSh 17,999   \n",
       "..                                                 ...      ...         ...   \n",
       "172                     Itel RS4 6.56\" 8GB RAM +256 GB     Itel  KSh 21,060   \n",
       "173         Itel 5609 - 1.77\" (Dual SIM) - Wireless FM     Itel   KSh 1,790   \n",
       "174    Itel 27000mah Large Capacity  Powerbank IPP-85L     Itel   KSh 2,796   \n",
       "175  Itel 20000mah Battery Portable And Fast Charge...     Itel   KSh 1,911   \n",
       "176  Itel Flip 1 Folding Phone - 2.4\" - 1200mAh (Du...     Itel   KSh 2,960   \n",
       "\n",
       "    jumia_oldPrice jumia_discount  jumia_rating   jumia_verifiedRatings  \\\n",
       "0       KSh 12,500             8%  4.3 out of 5   (51 verified ratings)   \n",
       "1       KSh 14,000             8%  4.7 out of 5    (7 verified ratings)   \n",
       "2       KSh 21,200            50%    5 out of 5     (1 verified rating)   \n",
       "3       KSh 11,000            19%  4.5 out of 5   (13 verified ratings)   \n",
       "4       KSh 35,998            50%    0 out of 5  (No ratings available)   \n",
       "..             ...            ...           ...                     ...   \n",
       "172     KSh 22,000             4%    1 out of 5     (1 verified rating)   \n",
       "173      KSh 2,000            11%    0 out of 5  (No ratings available)   \n",
       "174      KSh 5,000            44%    0 out of 5  (No ratings available)   \n",
       "175      KSh 2,800            32%    0 out of 5  (No ratings available)   \n",
       "176      KSh 4,000            26%  2.8 out of 5    (5 verified ratings)   \n",
       "\n",
       "                                           jumia_stock  \\\n",
       "0    {'inStock': True, 'stockStatus': '87 items lef...   \n",
       "1    {'inStock': True, 'stockStatus': 'In stock', '...   \n",
       "2    {'inStock': True, 'stockStatus': '9 units left...   \n",
       "3    {'inStock': True, 'stockStatus': 'In stock', '...   \n",
       "4    {'inStock': True, 'stockStatus': '8 units left...   \n",
       "..                                                 ...   \n",
       "172  {'inStock': True, 'stockStatus': '9 units left...   \n",
       "173  {'inStock': False, 'stockStatus': 'Status unkn...   \n",
       "174  {'inStock': False, 'stockStatus': 'Status unkn...   \n",
       "175  {'inStock': False, 'stockStatus': 'Status unkn...   \n",
       "176  {'inStock': False, 'stockStatus': 'Status unkn...   \n",
       "\n",
       "                                          Key_Features  \n",
       "0    {'Display: 6.7\" PLS LCD': True, 'Resolution: 7...  \n",
       "1    {'6.7 inches IPS LCD display': True, 'Qualcomm...  \n",
       "2    {'Display: 1.6\" AMOLED Display. 256x402 Resolu...  \n",
       "3    {'6.5'' display': True, 'Android 12': True, 'O...  \n",
       "4    {'THEY SAY “HOLA,” YOU HEAR “HELLO”: Now you c...  \n",
       "..                                                 ...  \n",
       "172  {'Display Size    6.56 inches, 103.4 cm2': Tru...  \n",
       "173  {'Display: 1.77\" TN': True, 'Resolution: 128 *...  \n",
       "174  {'27,000mAh Large Capacity': True, 'Three Inpu...  \n",
       "175  {'20000MAH 12W': True, 'Input USB-C: 5V/2.0A':...  \n",
       "176  {'Wireless FM radio': True, 'Foldable Phone': ...  \n",
       "\n",
       "[166 rows x 10 columns]"
      ]
     },
     "execution_count": 86,
     "metadata": {},
     "output_type": "execute_result"
    }
   ],
   "source": [
    "cleaned_df.drop( 'specifications', axis=1)"
   ]
  },
  {
   "cell_type": "code",
   "execution_count": null,
   "metadata": {},
   "outputs": [],
   "source": []
  }
 ],
 "metadata": {
  "kernelspec": {
   "display_name": "Python 3",
   "language": "python",
   "name": "python3"
  },
  "language_info": {
   "codemirror_mode": {
    "name": "ipython",
    "version": 3
   },
   "file_extension": ".py",
   "mimetype": "text/x-python",
   "name": "python",
   "nbconvert_exporter": "python",
   "pygments_lexer": "ipython3",
   "version": "3.12.4"
  }
 },
 "nbformat": 4,
 "nbformat_minor": 2
}
